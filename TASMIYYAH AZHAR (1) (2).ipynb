{
 "cells": [
  {
   "cell_type": "code",
   "execution_count": 11,
   "id": "e4f7c16e-cfe7-4e3a-8e2d-cf1ef2d84396",
   "metadata": {},
   "outputs": [
    {
     "name": "stdout",
     "output_type": "stream",
     "text": [
      "Home\n",
      "harrypotter\n",
      "the next gen\n"
     ]
    }
   ],
   "source": [
    "#QUESTION NO.1 (FOR LOOPS)\n",
    "#creating list of fav movies\n",
    "fav_movies=['Home','harrypotter', 'the next gen']\n",
    "#using for loop to iterate list\n",
    "for movie in fav_movies:\n",
    "    print(movie)"
   ]
  },
  {
   "cell_type": "code",
   "execution_count": 13,
   "id": "b70be0ce-712c-414b-a4a8-6f59eb633682",
   "metadata": {},
   "outputs": [
    {
     "name": "stdout",
     "output_type": "stream",
     "text": [
      "Index: 0, Movie: Home\n",
      "Index: 1, Movie: harrypotter\n",
      "Index: 2, Movie: the next gen\n"
     ]
    }
   ],
   "source": [
    "#modifying for loop\n",
    "for index, movie in enumerate(fav_movies):\n",
    "    print(f\"Index: {index}, Movie: {movie}\")"
   ]
  },
  {
   "cell_type": "code",
   "execution_count": 23,
   "id": "429a63c5-c833-4453-bcad-468f85296fe8",
   "metadata": {},
   "outputs": [
    {
     "name": "stdout",
     "output_type": "stream",
     "text": [
      "t\n",
      "a\n",
      "s\n",
      "m\n",
      "i\n",
      "y\n",
      "y\n",
      "a\n",
      "h\n",
      " \n",
      "a\n",
      "z\n",
      "h\n",
      "a\n",
      "r\n",
      "Number of vowels in name:5\n"
     ]
    }
   ],
   "source": [
    "#Question no.2\n",
    "# creating a string of  my full name \n",
    "name = \"tasmiyyah azhar\"\n",
    "#iterating the string using for loop\n",
    "vowel_count = 0\n",
    "vowels=\"aeiouAEIOU\"\n",
    "for char in name :\n",
    "    print(char)\n",
    "    if char in vowels:\n",
    "        vowel_count += 1\n",
    "print(f\"Number of vowels in name:{vowel_count}\")"
   ]
  },
  {
   "cell_type": "code",
   "execution_count": 13,
   "id": "11b75c4d-ff9a-4faf-8149-1028ae472df7",
   "metadata": {},
   "outputs": [
    {
     "name": "stdout",
     "output_type": "stream",
     "text": [
      "Student: mishaym, Grade: 95\n",
      "Student: Alyna, Grade: 87\n",
      "Student: Tasmiyyah, Grade: 88\n",
      "The student with the highest grade is mishaym with a grade of 95.\n"
     ]
    }
   ],
   "source": [
    "#Question no.3\n",
    "#creating a dictionary \n",
    "students_grades={\"mishaym\": 95,\"Alyna\": 87,\"Tasmiyyah\": 88}\n",
    "#Finding the student with the highest grade\n",
    "for name, grade in students_grades.items():\n",
    "    print(f\"Student: {name}, Grade: {grade}\")\n",
    "highest_grade = -1\n",
    "top_student=\"\"\n",
    "for student, grade in students_grades.items():\n",
    "    if grade > highest_grade:\n",
    "        highest_grade = grade\n",
    "        top_student = student\n",
    "print(f\"The student with the highest grade is {top_student} with a grade of {highest_grade}.\")"
   ]
  },
  {
   "cell_type": "code",
   "execution_count": 21,
   "id": "96a3e535-000c-408a-b6b8-21ac677bd8dc",
   "metadata": {},
   "outputs": [
    {
     "name": "stdout",
     "output_type": "stream",
     "text": [
      "Matrix elements:\n",
      "1 2 3 \n",
      "4 5 6 \n",
      "7 8 9 \n",
      "Sum of all elements in the matrix: 45\n"
     ]
    }
   ],
   "source": [
    "#Question no.4\n",
    "#Creating the 2D matrix\n",
    "matrix = [\n",
    "    [1,2,3],\n",
    "    [4,5,6],\n",
    "    [7,8,9]\n",
    "]\n",
    "#Iterate over matrix using for loop\n",
    "print(\"Matrix elements:\")\n",
    "for row in matrix:\n",
    "    for element in row:\n",
    "        print(element, end=\" \")  \n",
    "    print() \n",
    "#printing the sum of the matrix\n",
    "matrix_sum = 0\n",
    "for row in matrix:\n",
    "    for element in row:\n",
    "        matrix_sum += element\n",
    "\n",
    "print(f\"Sum of all elements in the matrix: {matrix_sum}\")"
   ]
  },
  {
   "cell_type": "code",
   "execution_count": 15,
   "id": "ff90de65-38ea-4376-8615-b61a0800dd18",
   "metadata": {},
   "outputs": [
    {
     "name": "stdout",
     "output_type": "stream",
     "text": [
      " squares using a for loop : [1, 4, 9, 16, 25, 36, 49, 64, 81, 100]\n"
     ]
    }
   ],
   "source": [
    "#Question no.5\n",
    "# using for loop\n",
    "squares=[]\n",
    "for i in range(1,11):\n",
    "      squares.append(i**2)\n",
    "print(\" squares using a for loop :\", squares)"
   ]
  },
  {
   "cell_type": "code",
   "execution_count": 17,
   "id": "53390cc9-0429-4fb4-93ab-b240d79e9ae1",
   "metadata": {},
   "outputs": [
    {
     "name": "stdout",
     "output_type": "stream",
     "text": [
      "Squares using list comprehension: [1, 4, 9, 16, 25, 36, 49, 64, 81, 100]\n"
     ]
    }
   ],
   "source": [
    "#using list comprehension\n",
    "squares_comprehension=[i**2 for i in range (1,11)]\n",
    "print(\"Squares using list comprehension:\",squares_comprehension)"
   ]
  },
  {
   "cell_type": "code",
   "execution_count": 1,
   "id": "cb9b4511-a84c-46e7-8c47-0c2414a4ca4e",
   "metadata": {},
   "outputs": [
    {
     "name": "stdout",
     "output_type": "stream",
     "text": [
      "1\n",
      "2\n",
      "3\n",
      "4\n",
      "5\n",
      "6\n",
      "7\n",
      "8\n",
      "9\n",
      "10\n"
     ]
    }
   ],
   "source": [
    "#question no.1 (while loops)\n",
    "count = 1\n",
    "while count <= 10:\n",
    "    print(count)\n",
    "    count += 1"
   ]
  },
  {
   "cell_type": "code",
   "execution_count": 3,
   "id": "34b22424-8d87-4ec2-bb52-9290da0074f6",
   "metadata": {},
   "outputs": [
    {
     "name": "stdout",
     "output_type": "stream",
     "text": [
      "2\n",
      "4\n",
      "6\n",
      "8\n",
      "10\n",
      "12\n",
      "14\n",
      "16\n",
      "18\n",
      "20\n"
     ]
    }
   ],
   "source": [
    "#question no.2\n",
    "num = 1\n",
    "while num <= 20:\n",
    "    if num % 2 == 0:\n",
    "        print(num)\n",
    "    num += 1\n"
   ]
  },
  {
   "cell_type": "code",
   "execution_count": 5,
   "id": "ad596d8f-cb04-4d0a-a25e-61da1d4cbdab",
   "metadata": {},
   "outputs": [
    {
     "name": "stdout",
     "output_type": "stream",
     "text": [
      "sum of first 10 natural numbers: 10\n"
     ]
    }
   ],
   "source": [
    "#question no.3\n",
    "count = 1\n",
    "total_sum = 0\n",
    "while count <= 10 :\n",
    "      total_sum += 1\n",
    "      count += 1\n",
    "print(\"sum of first 10 natural numbers:\",total_sum )    "
   ]
  },
  {
   "cell_type": "code",
   "execution_count": 9,
   "id": "8ccb96b5-fac0-4566-8374-48878b3361ae",
   "metadata": {},
   "outputs": [
    {
     "name": "stdin",
     "output_type": "stream",
     "text": [
      "Enter a number (negative number to stop):  98\n",
      "Enter a number (negative number to stop):  54\n",
      "Enter a number (negative number to stop):  45\n",
      "Enter a number (negative number to stop):  35\n",
      "Enter a number (negative number to stop):  12\n",
      "Enter a number (negative number to stop):  -8\n"
     ]
    },
    {
     "name": "stdout",
     "output_type": "stream",
     "text": [
      "Total sum of the numbers entered: 244.0\n"
     ]
    }
   ],
   "source": [
    "#question no.4\n",
    "q4total_sum = 0\n",
    "\n",
    "while True:\n",
    "    num = float(input(\"Enter a number (negative number to stop): \"))\n",
    "    if num < 0:\n",
    "        break\n",
    "    q4total_sum += num\n",
    "\n",
    "print(\"Total sum of the numbers entered:\", q4total_sum)"
   ]
  },
  {
   "cell_type": "code",
   "execution_count": 13,
   "id": "61190b9c-0c5d-4cfc-a4fc-5ac9a513adad",
   "metadata": {},
   "outputs": [
    {
     "name": "stdin",
     "output_type": "stream",
     "text": [
      "Enter a positive integer:  11\n"
     ]
    },
    {
     "name": "stdout",
     "output_type": "stream",
     "text": [
      "Factorial of 11 is 39916800\n"
     ]
    }
   ],
   "source": [
    "#question no.6\n",
    "num = int(input(\"Enter a positive integer: \"))\n",
    "factorial = 1\n",
    "i = 1\n",
    "\n",
    "while i <= num:\n",
    "    factorial *= i\n",
    "    i += 1\n",
    "\n",
    "print(f\"Factorial of {num} is {factorial}\")"
   ]
  },
  {
   "cell_type": "code",
   "execution_count": null,
   "id": "8b83e715-0dbf-43ae-badc-a21144b988bd",
   "metadata": {},
   "outputs": [
    {
     "name": "stdin",
     "output_type": "stream",
     "text": [
      "Guess the number between 1 and 100:  98\n"
     ]
    },
    {
     "name": "stdout",
     "output_type": "stream",
     "text": [
      "Too high! Try again.\n"
     ]
    },
    {
     "name": "stdin",
     "output_type": "stream",
     "text": [
      "Guess the number between 1 and 100:  90\n"
     ]
    },
    {
     "name": "stdout",
     "output_type": "stream",
     "text": [
      "Too high! Try again.\n"
     ]
    },
    {
     "name": "stdin",
     "output_type": "stream",
     "text": [
      "Guess the number between 1 and 100:  70\n"
     ]
    },
    {
     "name": "stdout",
     "output_type": "stream",
     "text": [
      "Too high! Try again.\n"
     ]
    },
    {
     "name": "stdin",
     "output_type": "stream",
     "text": [
      "Guess the number between 1 and 100:  40\n"
     ]
    },
    {
     "name": "stdout",
     "output_type": "stream",
     "text": [
      "Too high! Try again.\n"
     ]
    },
    {
     "name": "stdin",
     "output_type": "stream",
     "text": [
      "Guess the number between 1 and 100:  38\n"
     ]
    },
    {
     "name": "stdout",
     "output_type": "stream",
     "text": [
      "Too high! Try again.\n"
     ]
    },
    {
     "name": "stdin",
     "output_type": "stream",
     "text": [
      "Guess the number between 1 and 100:  30\n"
     ]
    },
    {
     "name": "stdout",
     "output_type": "stream",
     "text": [
      "Too high! Try again.\n"
     ]
    },
    {
     "name": "stdin",
     "output_type": "stream",
     "text": [
      "Guess the number between 1 and 100:  29\n"
     ]
    },
    {
     "name": "stdout",
     "output_type": "stream",
     "text": [
      "Too high! Try again.\n"
     ]
    },
    {
     "name": "stdin",
     "output_type": "stream",
     "text": [
      "Guess the number between 1 and 100:  15\n"
     ]
    },
    {
     "name": "stdout",
     "output_type": "stream",
     "text": [
      "Too low! Try again.\n"
     ]
    }
   ],
   "source": [
    "#question no. 5\n",
    "import random\n",
    "\n",
    "target_number = random.randint(1, 100)\n",
    "guess = None\n",
    "\n",
    "while guess != target_number:\n",
    "    guess = int(input(\"Guess the number between 1 and 100: \"))\n",
    "    \n",
    "    if guess < target_number:\n",
    "        print(\"Too low! Try again.\")\n",
    "    elif guess > target_number:\n",
    "        print(\"Too high! Try again.\")\n",
    "    else:\n",
    "        print(\"Congratulations! You guessed the correct number.\")"
   ]
  },
  {
   "cell_type": "code",
   "execution_count": 7,
   "id": "28b8dbe7-d24a-42de-9d0d-7908a5727649",
   "metadata": {},
   "outputs": [
    {
     "name": "stdin",
     "output_type": "stream",
     "text": [
      "Enter a number (or 'done' to finish):  87\n",
      "Enter a number (or 'done' to finish):  67\n",
      "Enter a number (or 'done' to finish):  49\n",
      "Enter a number (or 'done' to finish):  35\n",
      "Enter a number (or 'done' to finish):  done\n"
     ]
    },
    {
     "name": "stdout",
     "output_type": "stream",
     "text": [
      "The average of the numbers you entered is: 59.5\n"
     ]
    }
   ],
   "source": [
    "#Question no.7\n",
    "total = 0\n",
    "count = 0\n",
    "while True:\n",
    "    user_input = input(\"Enter a number (or 'done' to finish): \")\n",
    "\n",
    "    if user_input.lower() == 'done':\n",
    "        break\n",
    "\n",
    "    try:\n",
    "        number = float(user_input)\n",
    "        total += number\n",
    "        count += 1\n",
    "    except ValueError:\n",
    "        print(\"Oops! That's not a valid number. Please try again.\")\n",
    "\n",
    "if count > 0:\n",
    "    average = total / count\n",
    "    print(f\"The average of the numbers you entered is: {average}\")\n",
    "else:\n",
    "    print(\"You didn't enter any valid numbers.\")\n"
   ]
  },
  {
   "cell_type": "code",
   "execution_count": 5,
   "id": "3152bbc3-db91-40c2-ab4f-79c6fa372359",
   "metadata": {
    "scrolled": true
   },
   "outputs": [
    {
     "name": "stdin",
     "output_type": "stream",
     "text": [
      "How many Fibonacci numbers would you like to see?  8\n"
     ]
    },
    {
     "name": "stdout",
     "output_type": "stream",
     "text": [
      "The first 8 numbers in the Fibonacci sequence are:\n",
      "0 1 1 2 3 5 8 13 \n",
      "Enjoy the sequence! 😊\n"
     ]
    }
   ],
   "source": [
    "#question no.8\n",
    "n = int(input(\"How many Fibonacci numbers would you like to see? \"))\n",
    "\n",
    "a, b = 0, 1\n",
    "\n",
    "print(f\"The first {n} numbers in the Fibonacci sequence are:\")\n",
    "\n",
    "# using for loop for fibonnica sequence\n",
    "for _ in range(n):\n",
    "    print(a, end=\" \")\n",
    "    a, b = b, a + b\n",
    "\n",
    "print(\"\\nEnjoy the sequence! 😊\")\n"
   ]
  },
  {
   "cell_type": "code",
   "execution_count": null,
   "id": "ac669a2b-e226-49db-ae0b-fc1d0c214410",
   "metadata": {},
   "outputs": [],
   "source": []
  }
 ],
 "metadata": {
  "kernelspec": {
   "display_name": "Python 3 (ipykernel)",
   "language": "python",
   "name": "python3"
  },
  "language_info": {
   "codemirror_mode": {
    "name": "ipython",
    "version": 3
   },
   "file_extension": ".py",
   "mimetype": "text/x-python",
   "name": "python",
   "nbconvert_exporter": "python",
   "pygments_lexer": "ipython3",
   "version": "3.12.7"
  }
 },
 "nbformat": 4,
 "nbformat_minor": 5
}
